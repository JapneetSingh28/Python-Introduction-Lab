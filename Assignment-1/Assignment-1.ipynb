{
 "cells": [
  {
   "cell_type": "markdown",
   "metadata": {},
   "source": [
    "# Python Introduction Lab\n",
    "## Assignment 1\n",
    "### Japneet Singh - 05013202717 - CSE-1( 8th Semester )"
   ]
  },
  {
   "cell_type": "markdown",
   "metadata": {},
   "source": [
    "Q1. Create a program that asks the user to enter their name and their age. Print out a\n",
    "message addressed to them that tells them the year that they will turn 100 years old.\n",
    "Extras:\n",
    "1. Add on to the previous program by asking the user for another number and\n",
    "printing out that many copies of the previous message.\n",
    "2. Print out that many copies of the previous message on separate lines. (Hint:\n",
    "the string \"\\n is the same as pressing the ENTER button)"
   ]
  },
  {
   "cell_type": "code",
   "execution_count": 1,
   "metadata": {
    "scrolled": true
   },
   "outputs": [
    {
     "name": "stdout",
     "output_type": "stream",
     "text": [
      "Enter your name: Japneet Singh\n",
      "Enter your age: 22\n",
      "Japneet Singh will be 100 years old in 2099.\n",
      "\n",
      "Extras:\n",
      "Enter number of copies of the previous message: 10\n",
      "Japneet Singh will be 100 years old in 2099.\n",
      "Japneet Singh will be 100 years old in 2099.\n",
      "Japneet Singh will be 100 years old in 2099.\n",
      "Japneet Singh will be 100 years old in 2099.\n",
      "Japneet Singh will be 100 years old in 2099.\n",
      "Japneet Singh will be 100 years old in 2099.\n",
      "Japneet Singh will be 100 years old in 2099.\n",
      "Japneet Singh will be 100 years old in 2099.\n",
      "Japneet Singh will be 100 years old in 2099.\n",
      "Japneet Singh will be 100 years old in 2099.\n",
      "\n"
     ]
    }
   ],
   "source": [
    "name = input('Enter your name: ')\n",
    "age = input('Enter your age: ')\n",
    "\n",
    "year = 2021 + 100 - int(age)\n",
    "result = name + ' will be 100 years old in ' + str(year)+'.' + '\\n'\n",
    "print(result)\n",
    "\n",
    "# Extras:\n",
    "print('Extras:')\n",
    "repeat_msg = input('Enter number of copies of the previous message: ')\n",
    "\n",
    "print(result * int(repeat_msg))"
   ]
  },
  {
   "cell_type": "markdown",
   "metadata": {},
   "source": [
    "Q2. Take a list, say for example this one:\n",
    "a = [1, 1, 2, 3, 5, 8, 13, 21, 34, 55, 89]\n",
    "and write a program that prints out all the elements of the list that are less than 5.\n",
    "Extras:\n",
    "1. Instead of printing the elements one by one, make a new list that has all the\n",
    "elements less than 5 from this list in it and print out this new list.\n",
    "2. Write this in one line of Python.\n",
    "3. Ask the user for a number and return a list that contains only elements from the\n",
    "original list a that are smaller than that number given by the user."
   ]
  },
  {
   "cell_type": "code",
   "execution_count": 2,
   "metadata": {},
   "outputs": [
    {
     "name": "stdout",
     "output_type": "stream",
     "text": [
      "1\n",
      "\n",
      "1\n",
      "\n",
      "2\n",
      "\n",
      "3\n",
      "\n",
      "Extras:\n",
      "New List is : [1, 1, 2, 3]\n",
      "Enter a number to print all the numbers that are smaller than that number: 21\n",
      "[1, 1, 2, 3, 5, 8, 13]\n"
     ]
    }
   ],
   "source": [
    "a = [1, 1, 2, 3, 5, 8, 13, 21, 34, 55, 89]\n",
    "\n",
    "for element in a:\n",
    "    if( int(element) < 5 ):\n",
    "        print(str(element)+\"\\n\")\n",
    "        \n",
    "print('Extras:')\n",
    "#Extras:  \n",
    "\n",
    "new_list = [ ele for ele in a if ele < 5 ]\n",
    "print('New List is : ' + str(new_list))\n",
    "\n",
    "num = input('Enter a number to print all the numbers that are smaller than that number: ')\n",
    "print([ ele for ele in a if ele < int(num) ])"
   ]
  },
  {
   "cell_type": "markdown",
   "metadata": {},
   "source": [
    "Q3. Write a program that asks the user how many Fibonacci numbers to generate and\n",
    "then generates them. Take this opportunity to think about how you can use functions.\n",
    "Make sure to ask the user to enter the number of numbers in the sequence to\n",
    "generate.(Hint: The Fibonacci seqence is a sequence of numbers where the next number \n",
    "in the sequence is the sum of the previous two numbers in the sequence. The sequence\n",
    "looks like this: 1, 1, 2, 3, 5, 8, 13, ...)"
   ]
  },
  {
   "cell_type": "code",
   "execution_count": 3,
   "metadata": {},
   "outputs": [
    {
     "name": "stdout",
     "output_type": "stream",
     "text": [
      "Enter the length of Fibonacci series: 14\n",
      "Fibonacci sequence:\n",
      "0\n",
      "1\n",
      "1\n",
      "2\n",
      "3\n",
      "5\n",
      "8\n",
      "13\n",
      "21\n",
      "34\n",
      "55\n",
      "89\n",
      "144\n",
      "233\n"
     ]
    }
   ],
   "source": [
    "def fibonacci(nterms):\n",
    "    n1, n2 = 0, 1\n",
    "    count = 0\n",
    "    if nterms <= 0:\n",
    "        print(\"Please enter a positive integer\")\n",
    "    elif nterms == 1:\n",
    "        print(\"Fibonacci sequence upto\",nterms,\":\")\n",
    "        print(n1)\n",
    "    else:\n",
    "        print(\"Fibonacci sequence:\")\n",
    "        while count < nterms:\n",
    "            print(n1)\n",
    "            nth = n1 + n2\n",
    "            n1 = n2\n",
    "            n2 = nth\n",
    "            count += 1\n",
    "num_lmt = input('Enter the length of Fibonacci series: ')\n",
    "fibonacci(int(num_lmt))"
   ]
  },
  {
   "cell_type": "markdown",
   "metadata": {},
   "source": [
    "Q4. Write a program (function!) that takes a list and returns a new list that contains all the\n",
    "elements of the first list minus all the duplicates.\n",
    "Extras:\n",
    "\n",
    "● Write two different functions to do this - one using a loop and constructing a\n",
    "list, and another using sets."
   ]
  },
  {
   "cell_type": "code",
   "execution_count": 4,
   "metadata": {},
   "outputs": [
    {
     "name": "stdout",
     "output_type": "stream",
     "text": [
      "Enter the length of the list: 6\n",
      "Enter 0th element:0\n",
      "Enter 1th element:1\n",
      "Enter 2th element:2\n",
      "Enter 3th element:3\n",
      "Enter 4th element:2\n",
      "Enter 5th element:1\n",
      "[0, 1, 2, 3, 2, 1]\n",
      "Function using loop: [0, 1, 2, 3]\n",
      "Function using set: [0, 1, 2, 3]\n"
     ]
    }
   ],
   "source": [
    "def duplicate_f1(x):\n",
    "    new_list = []\n",
    "    for i in x:\n",
    "        if i not in new_list:\n",
    "            new_list.append(i)\n",
    "    return new_list\n",
    "\n",
    "def duplicate_f2(x):\n",
    "    return list(set(x))\n",
    "\n",
    "user_list=[]\n",
    "limit = int(input('Enter the length of the list: '))\n",
    "for i in range(limit):\n",
    "    ele = int(input('Enter '+str(i)+'th element:'))\n",
    "    user_list.append(ele)\n",
    "    \n",
    "print(user_list)\n",
    "print ('Function using loop: '+str(duplicate_f1(user_list)))\n",
    "print ('Function using set: '+str(duplicate_f2(user_list)))"
   ]
  },
  {
   "cell_type": "markdown",
   "metadata": {},
   "source": [
    "Q5. Ask the user for a number and determine whether the number is prime or not. (For\n",
    "those who have forgotten, a prime number is a number that has no divisors.). Use\n",
    "functions"
   ]
  },
  {
   "cell_type": "code",
   "execution_count": 5,
   "metadata": {},
   "outputs": [
    {
     "name": "stdout",
     "output_type": "stream",
     "text": [
      "Enter the number to check whether it is prime or not: 19\n",
      "19 is a prime number.\n"
     ]
    }
   ],
   "source": [
    "def prime(num):\n",
    "    flag = False\n",
    "    if num > 1:\n",
    "        for i in range(2, num):\n",
    "            if (num % i) == 0:\n",
    "                flag = True\n",
    "                break\n",
    "    if flag:\n",
    "        print(num, \"is not a prime number.\")\n",
    "    else:\n",
    "        print(num, \"is a prime number.\")\n",
    "num = int(input('Enter the number to check whether it is prime or not: '))\n",
    "prime(num)"
   ]
  },
  {
   "cell_type": "code",
   "execution_count": null,
   "metadata": {},
   "outputs": [],
   "source": []
  }
 ],
 "metadata": {
  "kernelspec": {
   "display_name": "Python 3",
   "language": "python",
   "name": "python3"
  },
  "language_info": {
   "codemirror_mode": {
    "name": "ipython",
    "version": 3
   },
   "file_extension": ".py",
   "mimetype": "text/x-python",
   "name": "python",
   "nbconvert_exporter": "python",
   "pygments_lexer": "ipython3",
   "version": "3.7.6"
  }
 },
 "nbformat": 4,
 "nbformat_minor": 4
}
